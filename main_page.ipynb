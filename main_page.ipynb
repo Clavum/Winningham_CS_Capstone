{
 "cells": [
  {
   "cell_type": "code",
   "execution_count": 32,
   "metadata": {},
   "outputs": [],
   "source": [
    "import numpy as np\n",
    "import pandas as pd\n",
    "import matplotlib.pyplot as plt\n",
    "import matplotlib.image as mpimg\n",
    "from ipyleaflet import Map, Icon, Marker\n",
    "from ipywidgets import interact\n",
    "import ipywidgets as widgets\n",
    "from datetime import datetime, timedelta\n",
    "from sklearn.linear_model import LinearRegression\n",
    "from sklearn.metrics import mean_squared_error\n",
    "from sklearn import metrics\n",
    "import collections"
   ]
  },
  {
   "cell_type": "code",
   "execution_count": 2,
   "metadata": {},
   "outputs": [],
   "source": [
    "crash_data = pd.read_csv(r\"https://raw.githubusercontent.com/Clavum/Winningham_CS_Capstone/main/crash_data.csv\") # Location of formatted data"
   ]
  },
  {
   "cell_type": "code",
   "execution_count": 3,
   "metadata": {},
   "outputs": [],
   "source": [
    "# plt.figure(figsize=(6.1458, 8.03125))\n",
    "# plt.axis([40.01, 40.12, -82.47, -82.36])\n",
    "# plt.imshow(img, extent=[40.01, 40.12, -82.47, -82.36])\n",
    "# plt.scatter('Latitude', 'Longitude', c='NumberOfUnits', data=crash_data)\n",
    "# plt.xlabel('Latitude')\n",
    "# plt.ylabel('Longitude')\n",
    "#plt.annotate('local max', xy=(2, 1), xytext=(3, 1.5),\n",
    "#             arrowprops=dict(facecolor='black', shrink=0.05),\n",
    "#             )\n",
    "# plt.show()"
   ]
  },
  {
   "cell_type": "markdown",
   "metadata": {},
   "source": [
    "## Welcome to the Newark Traffic Reporting and Prediction System"
   ]
  },
  {
   "cell_type": "markdown",
   "metadata": {},
   "source": [
    "### Historical (Descriptive) Traffic Data:\n",
    "---"
   ]
  },
  {
   "cell_type": "markdown",
   "metadata": {},
   "source": [
    "#### Chart 1: Traffic Incident Location Map"
   ]
  },
  {
   "cell_type": "code",
   "execution_count": 4,
   "metadata": {},
   "outputs": [
    {
     "data": {
      "application/vnd.jupyter.widget-view+json": {
       "model_id": "3639307fe3e3442eb60d4d25db73b701",
       "version_major": 2,
       "version_minor": 0
      },
      "text/plain": [
       "Map(center=[40.065, -82.415], controls=(ZoomControl(options=['position', 'zoom_in_text', 'zoom_in_title', 'zoo…"
      ]
     },
     "metadata": {},
     "output_type": "display_data"
    }
   ],
   "source": [
    "# Traffic incident location map\n",
    "\n",
    "center = (40.065, -82.415)\n",
    "m = Map(center=center, zoom=15)\n",
    "\n",
    "for index, row in crash_data.iterrows():\n",
    "    location = (row[\"Latitude\"], row[\"Longitude\"])\n",
    "    icon = Icon(icon_url='https://raw.githubusercontent.com/Clavum/Winningham_CS_Capstone/main/images/marker.png', icon_size=[10, 10], icon_anchor=[5,5])\n",
    "    marker = Marker(location=location, title=row[\"MannerOfCollision\"], icon=icon, draggable=False)\n",
    "    m.add_layer(marker);\n",
    "\n",
    "display(m)"
   ]
  },
  {
   "cell_type": "markdown",
   "metadata": {},
   "source": [
    "#### Chart 2: Pie Chart for Various Statistics"
   ]
  },
  {
   "cell_type": "code",
   "execution_count": 5,
   "metadata": {},
   "outputs": [],
   "source": [
    "def pie_chart_function(statistic):\n",
    "    # Get the statistic\n",
    "    desired_statistic = statistic\n",
    "    size_dict = {}\n",
    "    total_count = 0\n",
    "    for index, row in crash_data.iterrows():\n",
    "        value = row[desired_statistic]\n",
    "        try:\n",
    "            size_dict[value] += 1\n",
    "        except:  # Key doesn't exist yet\n",
    "            size_dict[value] = 1\n",
    "        total_count += 1\n",
    "    labels = list(size_dict.keys())\n",
    "    sizes = list(size_dict.values())\n",
    "    \n",
    "    for i in range(0, len(labels)):\n",
    "        labels[i] = str(labels[i]) + \" (\" + str(sizes[i]) + \", \" + \"{0:.1f}%\".format(sizes[i]/total_count * 100)  + \")\"\n",
    "    \n",
    "    plt.pie(sizes, startangle=90)\n",
    "    plt.legend(labels, loc=\"center left\", bbox_to_anchor=(0.8, 0.5)) # Create legend in the middle right\n",
    "    plt.axis('equal')  # Equal aspect ratio ensures that pie is drawn as a circle.\n",
    "\n",
    "    plt.show()"
   ]
  },
  {
   "cell_type": "code",
   "execution_count": 6,
   "metadata": {},
   "outputs": [
    {
     "data": {
      "application/vnd.jupyter.widget-view+json": {
       "model_id": "e172d32a368d45ae8e4aa8842744a695",
       "version_major": 2,
       "version_minor": 0
      },
      "text/plain": [
       "interactive(children=(Dropdown(description='Statistic', options=('CrashSeverity', 'NumberOfUnits', 'MannerOfCo…"
      ]
     },
     "metadata": {},
     "output_type": "display_data"
    },
    {
     "data": {
      "text/plain": [
       "<function __main__.send_to_pie_chart(Statistic)>"
      ]
     },
     "execution_count": 6,
     "metadata": {},
     "output_type": "execute_result"
    }
   ],
   "source": [
    "def send_to_pie_chart(Statistic):\n",
    "    pie_chart_function(Statistic)\n",
    "    \n",
    "list_statistics = ['CrashSeverity', 'NumberOfUnits', 'MannerOfCollision',\n",
    "                   'Weather', 'LightCondition', 'RoadCondition', 'AnimalRelated',\n",
    "                   'AlcoholRelated', 'SpeedRelated', 'TeenRelated']\n",
    "    \n",
    "interact(send_to_pie_chart, Statistic=list_statistics)"
   ]
  },
  {
   "cell_type": "markdown",
   "metadata": {},
   "source": [
    "#### Chart 3: Incident Frequency by Month, Day, or Hour"
   ]
  },
  {
   "cell_type": "code",
   "execution_count": 7,
   "metadata": {},
   "outputs": [],
   "source": [
    "def frequency_chart_function(time_range):\n",
    "    frequency_dict = {}\n",
    "    for index, row in crash_data.iterrows():\n",
    "        incident_time = datetime.strptime(row[\"CrashDateTime\"], \"%m/%d/%Y %H:%M\")\n",
    "        time_value = 0\n",
    "        if time_range == \"Month\":\n",
    "            time_value = incident_time.month\n",
    "        elif time_range == \"Day\":\n",
    "            time_value = incident_time.weekday()\n",
    "        elif time_range == \"Hour\":\n",
    "            time_value = incident_time.hour\n",
    "            \n",
    "        try:\n",
    "            frequency_dict[time_value] += 1\n",
    "        except:\n",
    "            frequency_dict[time_value] = 1\n",
    "    ordered_frequencies = collections.OrderedDict(sorted(frequency_dict.items()))\n",
    "    plt.figure(figsize=(len(list(frequency_dict.keys())) * 0.65, 4))\n",
    "    plt.bar(range(len(ordered_frequencies)), list(ordered_frequencies.values()), align='center')\n",
    "    plt.xticks(range(len(ordered_frequencies)), format_number_list(list(ordered_frequencies.keys()), time_range), rotation=40)\n",
    "    plt.ylabel('Count')\n",
    "    plt.show()\n",
    "    \n",
    "def format_number_list(number_list, time_range):  # Format numbers like 1, 5, or 7 as January, Saturday, or 7:00PM\n",
    "    month_map = {1: \"January\", 2: \"February\", 3: \"March\", 4: \"April\", 5: \"May\", 6: \"June\", 7: \"July\", 8: \"August\",\n",
    "                 9: \"September\", 10: \"October\", 11: \"November\", 12: \"December\"}\n",
    "    day_map = {0: \"Monday\", 1: \"Tuesday\", 2: \"Wednesday\", 3: \"Thursday\", 4: \"Friday\", 5: \"Saturday\", 6: \"Sunday\"}\n",
    "    hour_map = {0: \"12:00AM\", 1: \"1:00AM\", 2: \"2:00AM\", 3: \"3:00AM\", 4: \"4:00AM\", 5: \"5:00AM\", 6: \"6:00AM\", \n",
    "                7: \"7:00AM\", 8: \"8:00AM\", 9: \"9:00AM\", 10: \"10:00AM\", 11: \"11:00AM\", 12: \"12:00PM\", 13: \"1:00PM\",\n",
    "                14: \"2:00PM\", 15: \"3:00PM\", 16: \"4:00PM\", 17: \"5:00PM\", 18: \"6:00PM\", 19: \"7:00PM\", 20: \"8:00PM\",\n",
    "                21: \"9:00PM\", 22: \"10:00PM\", 23: \"11:00PM\"}\n",
    "    if time_range == \"Month\":\n",
    "        for i in range(len(number_list)):\n",
    "            number_list[i] = month_map[number_list[i]]\n",
    "    if time_range == \"Day\":\n",
    "        for i in range(len(number_list)):\n",
    "            number_list[i] = day_map[number_list[i]]\n",
    "    if time_range == \"Hour\":\n",
    "        for i in range(len(number_list)):\n",
    "            number_list[i] = hour_map[number_list[i]]\n",
    "    return number_list"
   ]
  },
  {
   "cell_type": "code",
   "execution_count": 8,
   "metadata": {},
   "outputs": [
    {
     "data": {
      "application/vnd.jupyter.widget-view+json": {
       "model_id": "b29d1e2526ad4d579313ac0fa3487d4d",
       "version_major": 2,
       "version_minor": 0
      },
      "text/plain": [
       "interactive(children=(Dropdown(description='TimeRange', options=('Month', 'Day', 'Hour'), value='Month'), Outp…"
      ]
     },
     "metadata": {},
     "output_type": "display_data"
    },
    {
     "data": {
      "text/plain": [
       "<function __main__.send_to_frequency_chart(TimeRange)>"
      ]
     },
     "execution_count": 8,
     "metadata": {},
     "output_type": "execute_result"
    }
   ],
   "source": [
    "def send_to_frequency_chart(TimeRange):\n",
    "    frequency_chart_function(TimeRange)\n",
    "    \n",
    "list_time_range = ['Month', 'Day', 'Hour']\n",
    "    \n",
    "interact(send_to_frequency_chart, TimeRange=list_time_range)"
   ]
  },
  {
   "cell_type": "markdown",
   "metadata": {},
   "source": [
    "### Future (Predictive) Method"
   ]
  },
  {
   "cell_type": "markdown",
   "metadata": {},
   "source": [
    "#### Projected Incidents in Time Range"
   ]
  },
  {
   "cell_type": "code",
   "execution_count": 52,
   "metadata": {},
   "outputs": [],
   "source": [
    "def predict_incidents(period):\n",
    "    date_series = crash_data.CrashDateTime\n",
    "    date_series.sort_values()\n",
    "    period_start = 0\n",
    "    period_step = period\n",
    "    current_period = 0\n",
    "    incident_df = pd.DataFrame({\"Period\": [], \"Count\": []})\n",
    "    for value in date_series:\n",
    "        incident_time = datetime.strptime(value, \"%m/%d/%Y %H:%M\")\n",
    "        if period_start == 0:\n",
    "            period_start = incident_time\n",
    "            incident_df.loc[0] = [0, 0]\n",
    "        if incident_time < period_start + timedelta(days=period_step):\n",
    "            incident_df.loc[current_period][\"Count\"] += 1\n",
    "        else:\n",
    "            current_period += 1\n",
    "            period_start = period_start + timedelta(days=period_step)\n",
    "            incident_df.loc[current_period] = [current_period, 1]\n",
    "    \n",
    "    X = incident_df.iloc[:, :-1].values\n",
    "    y = incident_df.iloc[:, 1].values\n",
    "    \n",
    "    # Remove last period because it might not be full, for example, it might\n",
    "    # include 10 days of data when it should include 20, thus skewing results\n",
    "    X = X[:-1].copy()\n",
    "    y = y[:-1].copy()\n",
    "    regressor = LinearRegression()\n",
    "    regressor.fit(X, y)\n",
    "    future_count = round(float(regressor.coef_*(current_period+1)+regressor.intercept_))\n",
    "\n",
    "    print(\"In the next\", period_step, \"days, there will be approximately\", future_count, \"incidents.\\n\\n\")\n",
    "    y_pred = regressor.predict(X)\n",
    "    print('Error Analysis and Confidence (the lower the better):\\n')\n",
    "    print('Mean Absolute Error:', metrics.mean_absolute_error(y, y_pred))\n",
    "    print('Mean Squared Error:', metrics.mean_squared_error(y, y_pred))"
   ]
  },
  {
   "cell_type": "code",
   "execution_count": 53,
   "metadata": {},
   "outputs": [
    {
     "data": {
      "application/vnd.jupyter.widget-view+json": {
       "model_id": "887a03e99def460ab2e1b90111dd19e9",
       "version_major": 2,
       "version_minor": 0
      },
      "text/plain": [
       "interactive(children=(IntSlider(value=7, description='Period', max=30, min=1), Output()), _dom_classes=('widge…"
      ]
     },
     "metadata": {},
     "output_type": "display_data"
    },
    {
     "data": {
      "text/plain": [
       "<function __main__.send_to_predict_function(Period)>"
      ]
     },
     "execution_count": 53,
     "metadata": {},
     "output_type": "execute_result"
    }
   ],
   "source": [
    "def send_to_predict_function(Period):\n",
    "    predict_incidents(Period)\n",
    "    \n",
    "interact(send_to_predict_function, Period=widgets.IntSlider(min=1, max=30, step=1, value=7))"
   ]
  },
  {
   "cell_type": "markdown",
   "metadata": {},
   "source": [
    "---\n",
    "#### Made by Clavum Corporation\n",
    "---"
   ]
  },
  {
   "cell_type": "code",
   "execution_count": null,
   "metadata": {},
   "outputs": [],
   "source": []
  }
 ],
 "metadata": {
  "kernelspec": {
   "display_name": "Python 3",
   "language": "python",
   "name": "python3"
  },
  "language_info": {
   "codemirror_mode": {
    "name": "ipython",
    "version": 3
   },
   "file_extension": ".py",
   "mimetype": "text/x-python",
   "name": "python",
   "nbconvert_exporter": "python",
   "pygments_lexer": "ipython3",
   "version": "3.8.5"
  }
 },
 "nbformat": 4,
 "nbformat_minor": 4
}
