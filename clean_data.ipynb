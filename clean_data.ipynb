{
 "cells": [
  {
   "cell_type": "code",
   "execution_count": 1,
   "metadata": {},
   "outputs": [],
   "source": [
    "import numpy as np\n",
    "import pandas as pd\n",
    "\n",
    "raw_data = pd.read_csv(r\"C:\\Users\\Joseph\\Desktop\\School\\WGU\\Classes\\CompSci Capstone\\CrashStatistics.csv\") # Replace with file location "
   ]
  },
  {
   "cell_type": "code",
   "execution_count": 2,
   "metadata": {},
   "outputs": [],
   "source": [
    "new_data = pd.DataFrame(raw_data, columns=[\"CrashSeverity\", \"NumberOfUnits\", \"UnitInError\", \"CrashDateTime\", \"Latitude\", \"Longitude\", \"LocationRouteType\", \n",
    "                                           \"LocationRouteNumber\", \"LocationPrefix\", \"LocationRoadName\", \"LocationRoadType\", \"MannerOfCollision\", \"Weather\",\n",
    "                                           \"LightCondition\", \"Narrative\", \"CrashReportedDateTime\", \"DispatchedDateTime\", \"ArrivedDateTime\", \"RoadCondition\",\n",
    "                                           \"TotalInjured\", \"TotalKilled\", \"AnimalRelated\", \"AlcoholRelated\", \"SpeedRelated\", \"TeenRelated\"])"
   ]
  },
  {
   "cell_type": "code",
   "execution_count": 3,
   "metadata": {},
   "outputs": [],
   "source": [
    "# Remove outliers. There are some crashes outside of Newark\n",
    "quantiles = new_data.Latitude.quantile([0.25, 0.5, 0.75])\n",
    "first_quartile = quantiles[0.25]\n",
    "third_quartile = quantiles[0.75]\n",
    "iqr = third_quartile - first_quartile # Interquartile Range (IQR)\n",
    "min_outlier = first_quartile - 1.5 * iqr\n",
    "max_outlier = third_quartile + 1.5 * iqr\n",
    "\n",
    "new_data = new_data[new_data['Latitude'] > min_outlier]\n",
    "new_data = new_data[new_data['Latitude'] < max_outlier]\n",
    "        \n",
    "quantiles = new_data.Longitude.quantile([0.25, 0.5, 0.75])\n",
    "first_quartile = quantiles[0.25]\n",
    "third_quartile = quantiles[0.75]\n",
    "iqr = third_quartile - first_quartile # Interquartile Range (IQR)\n",
    "min_outlier = first_quartile - 1.5 * iqr\n",
    "max_outlier = third_quartile + 1.5 * iqr\n",
    "\n",
    "new_data = new_data[new_data['Longitude'] > min_outlier]\n",
    "new_data = new_data[new_data['Longitude'] < max_outlier]"
   ]
  },
  {
   "cell_type": "code",
   "execution_count": 4,
   "metadata": {},
   "outputs": [],
   "source": [
    "new_data.to_csv(path_or_buf=r\"C:\\Users\\Joseph\\Desktop\\School\\WGU\\Classes\\CompSci Capstone\\crash_data.csv\") # Change save location as desired"
   ]
  },
  {
   "cell_type": "code",
   "execution_count": null,
   "metadata": {},
   "outputs": [],
   "source": []
  }
 ],
 "metadata": {
  "kernelspec": {
   "display_name": "Python 3",
   "language": "python",
   "name": "python3"
  },
  "language_info": {
   "codemirror_mode": {
    "name": "ipython",
    "version": 3
   },
   "file_extension": ".py",
   "mimetype": "text/x-python",
   "name": "python",
   "nbconvert_exporter": "python",
   "pygments_lexer": "ipython3",
   "version": "3.8.5"
  }
 },
 "nbformat": 4,
 "nbformat_minor": 4
}
